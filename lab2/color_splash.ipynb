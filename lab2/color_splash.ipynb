{
 "cells": [
  {
   "cell_type": "code",
   "execution_count": 1,
   "metadata": {},
   "outputs": [
    {
     "name": "stdout",
     "output_type": "stream",
     "text": [
      "No CUDA runtime is found, using CUDA_HOME='/data/apps/CUDA/11.3.1'\n"
     ]
    },
    {
     "name": "stderr",
     "output_type": "stream",
     "text": [
      "/data/home/scv9654/.conda/envs/openmmlab/lib/python3.8/site-packages/mmcv/__init__.py:20: UserWarning: On January 1, 2023, MMCV will release v2.0.0, in which it will remove components related to the training process and add a data transformation module. In addition, it will rename the package names mmcv to mmcv-lite and mmcv-full to mmcv. See https://github.com/open-mmlab/mmcv/blob/master/docs/en/compatibility.md for more details.\n",
      "  warnings.warn(\n"
     ]
    }
   ],
   "source": [
    "import mmcv\n",
    "import numpy as np\n",
    "import os.path as osp\n",
    "from mmdet.apis import inference_detector, init_detector"
   ]
  },
  {
   "cell_type": "code",
   "execution_count": null,
   "metadata": {},
   "outputs": [],
   "source": []
  },
  {
   "cell_type": "code",
   "execution_count": null,
   "metadata": {},
   "outputs": [],
   "source": [
    "def mask_frame(img):\n",
    "\tframe = mmcv.imread(osp.join(CWD, 'frames', img))\n",
    "\tresult = inference_detector(model, frame)\n",
    "\tmask = None\n",
    "\tmasks = result[1][0]\n",
    "\tfor i in range(len(masks)):\n",
    "\t\tif result[0][0][i][-1] >= 0.5:\n",
    "\t\t\tif not mask is None:\n",
    "\t\t\t\tmask = mask | masks[i]\n",
    "\t\t\telse:\n",
    "\t\t\t\tmask = masks[i]\n",
    "\tif mask is None:\n",
    "\t\treturn\n",
    "\t# 获取各通道mask\n",
    "\tmasked_b = frame[:, :, 0] * mask\n",
    "\tmasked_g = frame[:, :, 1] * mask\n",
    "\tmasked_r = frame[:, :, 2] * mask\n",
    "\t# 合并各通道\n",
    "\tmasked = np.concatenate([masked_b[:,:,None], masked_g[:,:,None], masked_r[:,:,None]],axis=2)\t\n",
    "\t# frame转灰度图\n",
    "\tun_mask = 1 - mask\n",
    "\tframe_b = frame[:, :, 0] * un_mask\n",
    "\tframe_g = frame[:, :, 1] * un_mask\n",
    "\tframe_r = frame[:, :, 2] * un_mask\n",
    "\tframe = np.concatenate([frame_b[:, :, None], frame_g[:, :, None], frame_r[:, :, None]], axis=2).astype(np.uint8)\n",
    "\tframe = mmcv.bgr2gray(frame, keepdim=True)\n",
    "\tframe = np.concatenate([frame, frame, frame], axis=2)\n",
    "\t# 合并\n",
    "\tframe += masked\t\n",
    "\tmmcv.imwrite(frame, '../splashed_dir/' + img)\t"
   ]
  },
  {
   "cell_type": "code",
   "execution_count": 2,
   "metadata": {},
   "outputs": [
    {
     "name": "stdout",
     "output_type": "stream",
     "text": [
      "[>>>>>>>>>>>>>>>>>>>>>>>>>>>>>] 125/125, 12.9 task/s, elapsed: 10s, ETA:     0s\n"
     ]
    }
   ],
   "source": [
    "# 合成视频\n",
    "mmcv.frames2video('../splashed_dir/', '../out.mp4', fourcc='mp4v')"
   ]
  }
 ],
 "metadata": {
  "kernelspec": {
   "display_name": "openmmlab",
   "language": "python",
   "name": "python3"
  },
  "language_info": {
   "codemirror_mode": {
    "name": "ipython",
    "version": 3
   },
   "file_extension": ".py",
   "mimetype": "text/x-python",
   "name": "python",
   "nbconvert_exporter": "python",
   "pygments_lexer": "ipython3",
   "version": "3.8.16"
  },
  "orig_nbformat": 4,
  "vscode": {
   "interpreter": {
    "hash": "9a8124c71da55ec2fa69606ca0276b24c25a70a90143d34902945a93dbeb6939"
   }
  }
 },
 "nbformat": 4,
 "nbformat_minor": 2
}
